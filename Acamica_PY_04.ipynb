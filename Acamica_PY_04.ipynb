{
  "nbformat": 4,
  "nbformat_minor": 0,
  "metadata": {
    "colab": {
      "name": "Acamica_PY_04.ipynb",
      "provenance": [],
      "toc_visible": true,
      "authorship_tag": "ABX9TyNP224m9N64j6DfsYf5bEZF",
      "include_colab_link": true
    },
    "kernelspec": {
      "name": "python3",
      "display_name": "Python 3"
    },
    "language_info": {
      "name": "python"
    }
  },
  "cells": [
    {
      "cell_type": "markdown",
      "metadata": {
        "id": "view-in-github",
        "colab_type": "text"
      },
      "source": [
        "<a href=\"https://colab.research.google.com/github/alexandergribenchenko/Pycaret_Exploration/blob/main/Acamica_PY_04.ipynb\" target=\"_parent\"><img src=\"https://colab.research.google.com/assets/colab-badge.svg\" alt=\"Open In Colab\"/></a>"
      ]
    },
    {
      "cell_type": "markdown",
      "metadata": {
        "id": "XAMLpLgdGJ5W"
      },
      "source": [
        "# **Proyecto 04 - Informe final de carrera**"
      ]
    },
    {
      "cell_type": "markdown",
      "metadata": {
        "id": "hovEgj74GJ5X"
      },
      "source": [
        "### (Acámica - DS online 40 - Proyecto 04 - Alexander Ortega)"
      ]
    },
    {
      "cell_type": "markdown",
      "metadata": {
        "id": "wxpYDd1mEb4k"
      },
      "source": [
        "# **Alcance y objeto del proyecto:**\n"
      ]
    },
    {
      "cell_type": "markdown",
      "metadata": {
        "id": "2Kak39y3ghCB"
      },
      "source": [
        "Si bien es clara la importancia de haber generado en los anteriores proyectos una implementación gradual (paso a paso) de los modelos de predicción, pues esto nos permitió tener un mayor conocimiento de las implicaciones y beneficios de cada una de las etapas de modelado, este proceso puede tomar un tiempo significativo que en contexto laboral puede dificultar su implementación. \n",
        "\n",
        "Es por ello que en este último proyecto nuestra finalidad es explorar una herramienta que nos permita generar de manera automatizada evaluaciones para un conjunto amplio de modelos, conociendo con ello de manera ágil los resultados para algunos caminos exploratorios, que después si así lo quisiéramos podríamos afinar. Así pues, la finalidad del presente proyecto no es mejorar de antemano las métricas obtenidas para un modelo en específico ni describir en detalle su funcionamiento,  sino explorar una herramienta que nos permita hacer de manera automatizada un conjunto de pruebas analíticas mucho más amplio y en un menor tiempo.\n",
        "\n",
        "La librería empleada para hacer dicha automatización es [PyCaret](https://pycaret.org/) y el contexto del problema analitico bajo el cual se explorará la herramienta será el abordado en el Proyecto_02 que consistió en la evaluación de un conjunto de modelos de predicción de precios para inmuebles de la Ciudad de Buenos Aires entre 2019 y enero de 2020.\n",
        "\n",
        "El actual proyecto abordará de manera conjunta a partir de la librería Pycaret no únicamente el problema de la generación de modelos de regresión de aprendizaje supervisado para la estimación de precio de los inmuebles, sino que también complementaremos su alcance con la evaluación de modelos de clustereizacion, ampliando así además los resultados de los anteriores proyectos. \n"
      ]
    },
    {
      "cell_type": "markdown",
      "metadata": {
        "id": "lbEBtnt9FFan"
      },
      "source": [
        "##### ---> Librerías a emplear en el proyecto:"
      ]
    },
    {
      "cell_type": "code",
      "metadata": {
        "id": "3RZZEPVubdM-"
      },
      "source": [
        "!pip install --upgrade xgboost"
      ],
      "execution_count": null,
      "outputs": []
    },
    {
      "cell_type": "code",
      "metadata": {
        "id": "Gk2Z3ij_bdOt"
      },
      "source": [
        "!pip install --upgrade catboost"
      ],
      "execution_count": null,
      "outputs": []
    },
    {
      "cell_type": "code",
      "metadata": {
        "id": "u3aR_9kEbdRI"
      },
      "source": [
        "import pandas as pd\n",
        "from sklearn.model_selection import train_test_split"
      ],
      "execution_count": null,
      "outputs": []
    },
    {
      "cell_type": "code",
      "metadata": {
        "id": "hoCoabrzbdTo"
      },
      "source": [
        "!pip install pycaret"
      ],
      "execution_count": null,
      "outputs": []
    },
    {
      "cell_type": "code",
      "metadata": {
        "id": "YVsPmhGXbdWT"
      },
      "source": [
        "from pycaret.utils import enable_colab\n",
        "enable_colab()\n",
        "\n",
        "from pycaret.utils import version\n",
        "version()"
      ],
      "execution_count": null,
      "outputs": []
    },
    {
      "cell_type": "code",
      "metadata": {
        "id": "7-aA40rZfAGQ"
      },
      "source": [
        "from pycaret.regression import *"
      ],
      "execution_count": null,
      "outputs": []
    },
    {
      "cell_type": "code",
      "metadata": {
        "id": "h8q0kOsBfAIV"
      },
      "source": [
        ""
      ],
      "execution_count": null,
      "outputs": []
    },
    {
      "cell_type": "code",
      "metadata": {
        "id": "y1nVcU0GfALN"
      },
      "source": [
        ""
      ],
      "execution_count": null,
      "outputs": []
    },
    {
      "cell_type": "code",
      "metadata": {
        "id": "_lbZVF9nfAN9"
      },
      "source": [
        ""
      ],
      "execution_count": null,
      "outputs": []
    },
    {
      "cell_type": "code",
      "metadata": {
        "id": "iQaX_1qOfARC"
      },
      "source": [
        ""
      ],
      "execution_count": null,
      "outputs": []
    },
    {
      "cell_type": "code",
      "metadata": {
        "id": "EDuc6u5TfATl"
      },
      "source": [
        ""
      ],
      "execution_count": null,
      "outputs": []
    },
    {
      "cell_type": "code",
      "metadata": {
        "id": "16AqlcOJfAWu"
      },
      "source": [
        ""
      ],
      "execution_count": null,
      "outputs": []
    }
  ]
}